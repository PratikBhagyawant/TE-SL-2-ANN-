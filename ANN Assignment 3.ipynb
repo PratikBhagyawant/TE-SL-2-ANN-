{
 "cells": [
  {
   "cell_type": "markdown",
   "id": "e3aeec12-41bb-4cb5-a9ad-2ffdf96fe7f5",
   "metadata": {},
   "source": [
    "NAME : Pratik Vijay Bhagyawant\\ \n",
    "CLASS : TE-AI&DS\\\n",
    "ROLL No : 2437016\\\n",
    "Batch : A\\\n",
    "SUB : Software Laboratory II (Artificial Neural Network)\\"
   ]
  },
  {
   "cell_type": "markdown",
   "id": "90d41649-95b9-4e55-99c5-c70ae0c38753",
   "metadata": {},
   "source": [
    "Problem Statement:\\\n",
    "Write a Python Program using Perceptron Neural Network to recognise even and odd numbers.\n",
    "Given numbers are in ASCII form 0 to 9"
   ]
  },
  {
   "cell_type": "code",
   "execution_count": 2,
   "id": "1fb9ade6-2573-4222-b8f8-9abbcaa506a1",
   "metadata": {},
   "outputs": [],
   "source": [
    "import numpy as np"
   ]
  },
  {
   "cell_type": "code",
   "execution_count": 3,
   "id": "a6137c6e-fd43-4241-8be8-03171c80e2ea",
   "metadata": {},
   "outputs": [
    {
     "name": "stdout",
     "output_type": "stream",
     "text": [
      "\n",
      "Menu:\n",
      "1. Enter a number (0-9)\n",
      "2. Exit\n"
     ]
    },
    {
     "name": "stdin",
     "output_type": "stream",
     "text": [
      "Enter your choice:  2\n"
     ]
    },
    {
     "name": "stdout",
     "output_type": "stream",
     "text": [
      "Exiting program...\n"
     ]
    }
   ],
   "source": [
    "# Step function\n",
    "step_function = lambda x:1 if x > 0 else -1\n",
    "\n",
    "# Training data\n",
    "training_data = [\n",
    "    {'input': [0, 1, 1, 0, 0, 0, 0], 'label': 0},   # 0 (Unpredicted)\n",
    "    {'input': [0, 1, 1, 0, 0, 0, 1], 'label': -1},  # 1 (Odd)\n",
    "    {'input': [0, 1, 1, 0, 0, 1, 0], 'label': 1},   # 2 (Even)\n",
    "    {'input': [0, 1, 1, 0, 0, 1, 1], 'label': -1},  # 3 (Odd)\n",
    "    {'input': [0, 1, 1, 0, 1, 0, 0], 'label': 1},   # 4 (Even)\n",
    "    {'input': [0, 1, 1, 0, 1, 0, 1], 'label': -1},  # 5 (Odd)\n",
    "    {'input': [0, 1, 1, 0, 1, 1, 0], 'label': 1},   # 6 (Even)\n",
    "    {'input': [0, 1, 1, 0, 1, 1, 1], 'label': -1},  # 7 (Odd)\n",
    "    {'input': [0, 1, 1, 1, 0, 0, 0], 'label': 1},   # 8 (Even)\n",
    "    {'input': [0, 1, 1, 1, 0, 0, 1], 'label': -1},  # 9 (Odd)\n",
    "]\n",
    "\n",
    "# Initialize weights\n",
    "weights = np.array([0.1] * 7)\n",
    "\n",
    "# Train perceptron\n",
    "for data in training_data:\n",
    "    input_data = np.array(data['input'])\n",
    "    label = data['label']\n",
    "    output = step_function(np.dot(input_data, weights))\n",
    "    error = label - output\n",
    "    weights += input_data * error\n",
    "\n",
    "# Prediction loop\n",
    "while True:\n",
    "    print(\"\\nMenu:\")\n",
    "    print(\"1. Enter a number (0-9)\")\n",
    "    print(\"2. Exit\")\n",
    "\n",
    "    choice = input(\"Enter your choice: \")\n",
    "\n",
    "    if choice == '2':\n",
    "        print(\"Exiting program...\")\n",
    "        break\n",
    "    elif choice != '1':\n",
    "        print(\"Invalid choice! Please enter 1 or 2.\")\n",
    "        continue\n",
    "\n",
    "    j = int(input(\"Enter a Number (0-9): \"))\n",
    "\n",
    "    if j < 0 or j > 9:\n",
    "        print(\"Invalid input! Please enter a number between 0 and 9.\")\n",
    "        continue\n",
    "\n",
    "    # Convert input number to 7-bit binary \n",
    "    input_data = np.array([0] + [int(x) for x in list('{0:06b}'.format(j))])\n",
    "\n",
    "    # Predict output\n",
    "    prediction = step_function(np.dot(input_data, weights))\n",
    "\n",
    "    if j == 0:\n",
    "        print(j, \"is Unpredicted\")\n",
    "    else:\n",
    "        output = \"even\" if prediction == 1 else \"odd\"\n",
    "        print(j, \"is\", output)"
   ]
  },
  {
   "cell_type": "code",
   "execution_count": 4,
   "id": "3d37ecfa-59c0-4edb-8fa9-5b766729f07a",
   "metadata": {},
   "outputs": [
    {
     "name": "stdout",
     "output_type": "stream",
     "text": [
      "Training completed. Final weights: [ 0.00448249  0.13737761  0.23014867 -0.12554991  0.38762479  0.23428293\n",
      "  0.27193747 -1.06121788]\n",
      "\n",
      "Menu:\n",
      "1. Enter a number (0-9)\n",
      "2. Exit\n"
     ]
    },
    {
     "name": "stdin",
     "output_type": "stream",
     "text": [
      "Enter your choice:  2\n"
     ]
    },
    {
     "name": "stdout",
     "output_type": "stream",
     "text": [
      "Exiting program...\n"
     ]
    }
   ],
   "source": [
    "# Step function\n",
    "step_function = lambda x: 1 if x > 0 else -1\n",
    "\n",
    "# Training data (Each input now has 8 values: [bias, 7-bit binary])\n",
    "training_data = [\n",
    "    {'input': [1, 0, 1, 1, 0, 0, 0, 0], 'label': 0},   # 0 (Unpredicted)\n",
    "    {'input': [1, 0, 1, 1, 0, 0, 0, 1], 'label': -1},  # 1 (Odd)\n",
    "    {'input': [1, 0, 1, 1, 0, 0, 1, 0], 'label': 1},   # 2 (Even)\n",
    "    {'input': [1, 0, 1, 1, 0, 0, 1, 1], 'label': -1},  # 3 (Odd)\n",
    "    {'input': [1, 0, 1, 1, 0, 1, 0, 0], 'label': 1},   # 4 (Even)\n",
    "    {'input': [1, 0, 1, 1, 0, 1, 0, 1], 'label': -1},  # 5 (Odd)\n",
    "    {'input': [1, 0, 1, 1, 0, 1, 1, 0], 'label': 1},   # 6 (Even)\n",
    "    {'input': [1, 0, 1, 1, 0, 1, 1, 1], 'label': -1},  # 7 (Odd)\n",
    "    {'input': [1, 0, 1, 1, 1, 0, 0, 0], 'label': 1},   # 8 (Even)\n",
    "    {'input': [1, 0, 1, 1, 1, 0, 0, 1], 'label': -1},  # 9 (Odd)\n",
    "]\n",
    "\n",
    "# Initialize weights for 8 inputs (bias + 7 bits)\n",
    "weights = np.random.rand(8)\n",
    "learning_rate = 0.1\n",
    "\n",
    "# Training the perceptron\n",
    "for epoch in range(10):  # More epochs = better convergence\n",
    "    for data in training_data:\n",
    "        input_data = np.array(data['input'])\n",
    "        label = data['label']\n",
    "        output = step_function(np.dot(input_data, weights))\n",
    "        error = label - output\n",
    "        weights += learning_rate * input_data * error\n",
    "\n",
    "print(\"Training completed. Final weights:\", weights)\n",
    "\n",
    "# Prediction loop\n",
    "while True:\n",
    "    print(\"\\nMenu:\")\n",
    "    print(\"1. Enter a number (0-9)\")\n",
    "    print(\"2. Exit\")\n",
    "\n",
    "    choice = input(\"Enter your choice: \")\n",
    "\n",
    "    if choice == '2':\n",
    "        print(\"Exiting program...\")\n",
    "        break\n",
    "    elif choice != '1':\n",
    "        print(\"Invalid choice! Please enter 1 or 2.\")\n",
    "        continue\n",
    "\n",
    "    j = int(input(\"Enter a Number (0-9): \"))\n",
    "\n",
    "    if j < 0 or j > 9:\n",
    "        print(\"Invalid input! Please enter a number between 0 and 9.\")\n",
    "        continue\n",
    "\n",
    "    # Convert number to 7-bit binary with leading zeros, then add bias at front\n",
    "    input_binary = [int(x) for x in list('{0:07b}'.format(j))]\n",
    "    input_data = np.array([1] + input_binary)  # 1 is the bias\n",
    "\n",
    "    # Predict\n",
    "    prediction = step_function(np.dot(input_data, weights))\n",
    "\n",
    "    if j == 0:\n",
    "        print(j, \"is Unpredicted\")\n",
    "    else:\n",
    "        output = \"even\" if prediction == 1 else \"odd\"\n",
    "        print(j, \"is\", output)"
   ]
  },
  {
   "cell_type": "code",
   "execution_count": null,
   "id": "396d6ea6-c45a-490d-ac21-cb0d37f5cb02",
   "metadata": {},
   "outputs": [],
   "source": []
  }
 ],
 "metadata": {
  "kernelspec": {
   "display_name": "Python 3 (ipykernel)",
   "language": "python",
   "name": "python3"
  },
  "language_info": {
   "codemirror_mode": {
    "name": "ipython",
    "version": 3
   },
   "file_extension": ".py",
   "mimetype": "text/x-python",
   "name": "python",
   "nbconvert_exporter": "python",
   "pygments_lexer": "ipython3",
   "version": "3.11.4"
  }
 },
 "nbformat": 4,
 "nbformat_minor": 5
}
