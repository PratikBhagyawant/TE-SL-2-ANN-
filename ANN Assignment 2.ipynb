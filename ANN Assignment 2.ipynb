{
 "cells": [
  {
   "cell_type": "markdown",
   "id": "74c1c860-edd2-4ec5-90f1-bc7bd12288d1",
   "metadata": {},
   "source": [
    "NAME : Pratik Vijay Bhagyawant\\ \n",
    "CLASS : TE-AI&DS\\\n",
    "ROLL No : 2437016\\\n",
    "Batch : A\\\n",
    "SUB : Software Laboratory II (Artificial Neural Network)\\"
   ]
  },
  {
   "cell_type": "markdown",
   "id": "0630abbb-94b1-4886-a10a-44fd2c0c5bbd",
   "metadata": {},
   "source": [
    "Problem Statement:\\\n",
    "Generate ANDNOT function using McCulloch-Pitts neural net by a python program.\\"
   ]
  },
  {
   "cell_type": "code",
   "execution_count": 2,
   "id": "135e90f1-4454-4d12-a728-5c423a759d88",
   "metadata": {},
   "outputs": [],
   "source": [
    "import numpy as np"
   ]
  },
  {
   "cell_type": "code",
   "execution_count": 3,
   "id": "f6c1eed5-a7f4-4a68-970b-f2d58d791941",
   "metadata": {},
   "outputs": [
    {
     "name": "stdout",
     "output_type": "stream",
     "text": [
      "0\n",
      "0\n",
      "1\n",
      "0\n"
     ]
    }
   ],
   "source": [
    "#No increment in weight\n",
    "def mp_neuron(inputs, weights, threshold):\n",
    "    net = np.dot(inputs, weights)\n",
    "    if net >= threshold:\n",
    "        output = 1\n",
    "    else:\n",
    "        output = 0\n",
    "    return output\n",
    "\n",
    "def and_not(x1, x2):\n",
    "    weights = [1, -1] \n",
    "    threshold = 1   \n",
    "    inputs = np.array([x1, x2])\n",
    "    output = mp_neuron(inputs, weights, threshold)\n",
    "    return output\n",
    "print(and_not(0, 0)) \n",
    "print(and_not(0, 1)) \n",
    "print(and_not(1, 0))   \n",
    "print(and_not(1, 1))  "
   ]
  },
  {
   "cell_type": "code",
   "execution_count": null,
   "id": "ecb89ef9-3651-4cdf-b1c6-6995a5a91e2e",
   "metadata": {},
   "outputs": [],
   "source": []
  }
 ],
 "metadata": {
  "kernelspec": {
   "display_name": "Python 3 (ipykernel)",
   "language": "python",
   "name": "python3"
  },
  "language_info": {
   "codemirror_mode": {
    "name": "ipython",
    "version": 3
   },
   "file_extension": ".py",
   "mimetype": "text/x-python",
   "name": "python",
   "nbconvert_exporter": "python",
   "pygments_lexer": "ipython3",
   "version": "3.11.4"
  }
 },
 "nbformat": 4,
 "nbformat_minor": 5
}
