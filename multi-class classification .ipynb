{
 "cells": [
  {
   "cell_type": "markdown",
   "id": "f4650b37-282a-4fb4-8a1d-bb5704e46971",
   "metadata": {},
   "source": [
    "NAME : Pratik Vijay Bhagyawant\\ \n",
    "CLASS : TE-AI&DS\\\n",
    "ROLL No : 2437016\\\n",
    "Batch : A\\\n",
    "SUB : Software Laboratory II (Artificial Neural Network)"
   ]
  },
  {
   "cell_type": "markdown",
   "id": "ffe465fa-81b1-4b21-8562-6f59a19bb3e6",
   "metadata": {},
   "source": [
    "Problem Statement :\\\n",
    "Create a Neural network architecture from scratch in Python and use it to do multi-class\n",
    "classification on any data.\\\n",
    "Parameters to be considered while creating the neural network from scratch are specified as:\\\n",
    "(1) No of hidden layers : 1 or more\\\n",
    "(2) No. of neurons in hidden layer: 100\\\n",
    "(3) Non-linearity in the layer : Relu\\\n",
    "(4) Use more than 1 neuron in the output layer. Use a suitable threshold value\\\n",
    "Use appropriate Optimisation algorithm "
   ]
  },
  {
   "cell_type": "code",
   "execution_count": 1,
   "id": "feff20ce-5b04-4020-aca8-88621baccaaf",
   "metadata": {},
   "outputs": [],
   "source": [
    "import numpy as np\n",
    "from sklearn.datasets import load_iris\n",
    "from sklearn.model_selection import train_test_split\n",
    "from sklearn.preprocessing import OneHotEncoder, StandardScaler"
   ]
  },
  {
   "cell_type": "code",
   "execution_count": 2,
   "id": "6ff27a0f-648e-4270-af3b-79571740ac1d",
   "metadata": {},
   "outputs": [],
   "source": [
    "# Load and preprocess Iris dataset\n",
    "iris = load_iris()\n",
    "X = iris.data  # Shape: (150, 4)\n",
    "y = iris.target.reshape(-1, 1)  # Shape: (150, 1)"
   ]
  },
  {
   "cell_type": "code",
   "execution_count": 3,
   "id": "331754b4-40f2-4246-a7c8-c2801cc9aa07",
   "metadata": {},
   "outputs": [],
   "source": [
    "# One-hot encode the labels\n",
    "encoder = OneHotEncoder(sparse_output=False)\n",
    "y_encoded = encoder.fit_transform(y)"
   ]
  },
  {
   "cell_type": "code",
   "execution_count": 4,
   "id": "683460cd-6518-4a5b-beeb-4fb3d791f326",
   "metadata": {},
   "outputs": [],
   "source": [
    "# Train-test split\n",
    "X_train, X_test, y_train, y_test = train_test_split(X, y_encoded, test_size=0.2, random_state=42)"
   ]
  },
  {
   "cell_type": "code",
   "execution_count": 5,
   "id": "8017de9b-a6c4-4654-91bc-4e9be5e8e76a",
   "metadata": {},
   "outputs": [],
   "source": [
    "# Standardize features\n",
    "scaler = StandardScaler()\n",
    "X_train = scaler.fit_transform(X_train)\n",
    "X_test = scaler.transform(X_test)"
   ]
  },
  {
   "cell_type": "code",
   "execution_count": 6,
   "id": "da84a864-4e34-4ef1-85fb-ecfc40e7c542",
   "metadata": {},
   "outputs": [
    {
     "name": "stdout",
     "output_type": "stream",
     "text": [
      "Epoch 0 — Loss: 1.0982 — Accuracy: 0.3333\n",
      "Epoch 100 — Loss: 1.0906 — Accuracy: 0.6750\n",
      "Epoch 200 — Loss: 1.0702 — Accuracy: 0.6833\n",
      "Epoch 300 — Loss: 1.0106 — Accuracy: 0.8250\n",
      "Epoch 400 — Loss: 0.8832 — Accuracy: 0.8750\n",
      "Epoch 500 — Loss: 0.7379 — Accuracy: 0.8000\n",
      "Epoch 600 — Loss: 0.6291 — Accuracy: 0.7917\n",
      "Epoch 700 — Loss: 0.5510 — Accuracy: 0.8083\n",
      "Epoch 800 — Loss: 0.4946 — Accuracy: 0.8083\n",
      "Epoch 900 — Loss: 0.4521 — Accuracy: 0.8250\n",
      "\n",
      "Test Accuracy: 0.8333333333333334\n"
     ]
    }
   ],
   "source": [
    "\n",
    "\n",
    "# Activation functions and derivatives\n",
    "def relu(x):\n",
    "    return np.maximum(0, x)\n",
    "\n",
    "def relu_derivative(x):\n",
    "    return (x > 0).astype(float)\n",
    "\n",
    "def softmax(x):\n",
    "    exp = np.exp(x - np.max(x, axis=1, keepdims=True))  # stability fix\n",
    "    return exp / np.sum(exp, axis=1, keepdims=True)\n",
    "\n",
    "# Cross-entropy loss\n",
    "def cross_entropy_loss(y_pred, y_true):\n",
    "    return -np.mean(np.sum(y_true * np.log(y_pred + 1e-8), axis=1))\n",
    "\n",
    "# Accuracy\n",
    "def accuracy(y_pred, y_true):\n",
    "    return np.mean(np.argmax(y_pred, axis=1) == np.argmax(y_true, axis=1))\n",
    "\n",
    "# Neural Network class\n",
    "class NeuralNetwork:\n",
    "    def __init__(self, input_size, hidden_size, output_size, lr=0.01):\n",
    "        self.lr = lr\n",
    "        self.weights1 = np.random.randn(input_size, hidden_size) * 0.01\n",
    "        self.bias1 = np.zeros((1, hidden_size))\n",
    "        self.weights2 = np.random.randn(hidden_size, output_size) * 0.01\n",
    "        self.bias2 = np.zeros((1, output_size))\n",
    "\n",
    "    def forward(self, X):\n",
    "        self.z1 = np.dot(X, self.weights1) + self.bias1\n",
    "        self.a1 = relu(self.z1)\n",
    "        self.z2 = np.dot(self.a1, self.weights2) + self.bias2\n",
    "        self.a2 = softmax(self.z2)\n",
    "        return self.a2\n",
    "\n",
    "    def backward(self, X, y, y_pred):\n",
    "        m = y.shape[0]\n",
    "        dz2 = y_pred - y\n",
    "        dw2 = np.dot(self.a1.T, dz2) / m\n",
    "        db2 = np.sum(dz2, axis=0, keepdims=True) / m\n",
    "\n",
    "        dz1 = np.dot(dz2, self.weights2.T) * relu_derivative(self.z1)\n",
    "        dw1 = np.dot(X.T, dz1) / m\n",
    "        db1 = np.sum(dz1, axis=0, keepdims=True) / m\n",
    "\n",
    "        # Update weights\n",
    "        self.weights1 -= self.lr * dw1\n",
    "        self.bias1 -= self.lr * db1\n",
    "        self.weights2 -= self.lr * dw2\n",
    "        self.bias2 -= self.lr * db2\n",
    "\n",
    "    def train(self, X, y, epochs=1000):\n",
    "        for epoch in range(epochs):\n",
    "            y_pred = self.forward(X)\n",
    "            loss = cross_entropy_loss(y_pred, y)\n",
    "            self.backward(X, y, y_pred)\n",
    "\n",
    "            if epoch % 100 == 0:\n",
    "                acc = accuracy(y_pred, y)\n",
    "                print(f\"Epoch {epoch} — Loss: {loss:.4f} — Accuracy: {acc:.4f}\")\n",
    "\n",
    "    def predict(self, X):\n",
    "        y_pred = self.forward(X)\n",
    "        return np.argmax(y_pred, axis=1)\n",
    "\n",
    "# Instantiate and train\n",
    "nn = NeuralNetwork(input_size=4, hidden_size=100, output_size=3, lr=0.01)\n",
    "nn.train(X_train, y_train, epochs=1000)\n",
    "\n",
    "# Test accuracy\n",
    "y_test_pred = nn.forward(X_test)\n",
    "print(\"\\nTest Accuracy:\", accuracy(y_test_pred, y_test))\n"
   ]
  },
  {
   "cell_type": "code",
   "execution_count": null,
   "id": "2f5aae48-04fe-4cc9-8a92-f18f4d3a079d",
   "metadata": {},
   "outputs": [],
   "source": []
  }
 ],
 "metadata": {
  "kernelspec": {
   "display_name": "Python 3 (ipykernel)",
   "language": "python",
   "name": "python3"
  },
  "language_info": {
   "codemirror_mode": {
    "name": "ipython",
    "version": 3
   },
   "file_extension": ".py",
   "mimetype": "text/x-python",
   "name": "python",
   "nbconvert_exporter": "python",
   "pygments_lexer": "ipython3",
   "version": "3.11.4"
  }
 },
 "nbformat": 4,
 "nbformat_minor": 5
}
