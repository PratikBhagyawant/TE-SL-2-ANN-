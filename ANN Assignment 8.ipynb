{
 "cells": [
  {
   "cell_type": "markdown",
   "id": "5af91a0b-2a2f-46c5-88b8-52662c2c7d0d",
   "metadata": {},
   "source": [
    "NAME : Pratik Vijay Bhagyawant\\ \n",
    "CLASS : TE-AI&DS\\\n",
    "ROLL No : 2437016\\\n",
    "Batch : A\\\n",
    "SUB : Software Laboratory II (Artificial Neural Network)"
   ]
  },
  {
   "cell_type": "markdown",
   "id": "4e8669c5-5ef9-42bb-b0f9-e102ae3aa788",
   "metadata": {},
   "source": [
    "Problem Statement :\\\n",
    "Write a python program to design a Hopfield Network which stores 4 vectors"
   ]
  },
  {
   "cell_type": "code",
   "execution_count": 1,
   "id": "53200567-8068-4e24-a091-8859701872fa",
   "metadata": {},
   "outputs": [
    {
     "name": "stdout",
     "output_type": "stream",
     "text": [
      "Input (noisy): [ 1 -1  1 -1 -1 -1]\n",
      "Output (recalled): [ 1 -1  1 -1  1 -1]\n"
     ]
    }
   ],
   "source": [
    "import numpy as np\n",
    "\n",
    "class HopfieldNetwork:\n",
    "    def __init__(self, num_neurons):\n",
    "        self.num_neurons = num_neurons\n",
    "        self.weights = np.zeros((num_neurons, num_neurons))\n",
    "\n",
    "    def train(self, patterns):\n",
    "        for p in patterns:\n",
    "            p = np.reshape(p, (self.num_neurons, 1))\n",
    "            self.weights += np.dot(p, p.T)\n",
    "        np.fill_diagonal(self.weights, 0)  # no self-connections\n",
    "        self.weights /= self.num_neurons  # normalization (optional)\n",
    "\n",
    "    def sign(self, x):\n",
    "        return np.where(x >= 0, 1, -1)\n",
    "\n",
    "    def recall(self, pattern, steps=5):\n",
    "        output = pattern.copy()\n",
    "        for _ in range(steps):\n",
    "            output = self.sign(np.dot(self.weights, output))\n",
    "        return output\n",
    "\n",
    "# --- Example Usage ---\n",
    "\n",
    "# Define 4 bipolar patterns (e.g., 6-bit)\n",
    "patterns = np.array([\n",
    "    [1, -1, 1, -1, 1, -1],\n",
    "    [-1, 1, -1, 1, -1, 1],\n",
    "    [1, 1, -1, -1, 1, -1],\n",
    "    [-1, -1, 1, 1, -1, 1]\n",
    "])\n",
    "\n",
    "# Create and train network\n",
    "net = HopfieldNetwork(num_neurons=6)\n",
    "net.train(patterns)\n",
    "\n",
    "# Test recall with noisy input\n",
    "test_pattern = np.array([1, -1, 1, -1, -1, -1])  # noisy version of pattern 1\n",
    "output = net.recall(test_pattern)\n",
    "\n",
    "print(\"Input (noisy):\", test_pattern)\n",
    "print(\"Output (recalled):\", output)\n"
   ]
  },
  {
   "cell_type": "code",
   "execution_count": 5,
   "id": "1905f8d8-b20d-4584-8e8d-eba42761ff00",
   "metadata": {},
   "outputs": [
    {
     "name": "stdout",
     "output_type": "stream",
     "text": [
      "Input pattern: [ 1  1 -1 -1]\n",
      "Predicted pattern: [-1. -1. -1. -1.]\n",
      "Input pattern: [-1 -1  1  1]\n",
      "Predicted pattern: [-1. -1. -1. -1.]\n",
      "Input pattern: [ 1 -1  1 -1]\n",
      "Predicted pattern: [-1. -1. -1. -1.]\n",
      "Input pattern: [-1  1 -1  1]\n",
      "Predicted pattern: [-1. -1. -1. -1.]\n"
     ]
    }
   ],
   "source": [
    "import numpy as np \n",
    "class HopfieldNetwork:\n",
    "    def __init__(self, n_neurons):\n",
    "        self.n_neurons = n_neurons\n",
    "        self.weights = np.zeros((n_neurons, n_neurons))\n",
    "    def train(self, patterns): \n",
    "        for pattern in patterns:\n",
    "            self.weights += np.outer(pattern, pattern) \n",
    "        np.fill_diagonal(self.weights, 0)\n",
    "\n",
    "    def predict(self, pattern):\n",
    "        energy = -0.5 * np.dot(np.dot(pattern, self.weights), pattern) \n",
    "        return np.sign(np.dot(pattern, self.weights) + energy)\n",
    "\n",
    "if __name__ == '__main__':\n",
    "    patterns = np.array([\n",
    "       [1, 1, -1, -1],\n",
    "       [-1, -1, 1, 1],\n",
    "       [1, -1, 1, -1],\n",
    "       [-1, 1, -1, 1]\n",
    "    ])\n",
    "\n",
    "    n_neurons = patterns.shape[1]\n",
    "    network = HopfieldNetwork(n_neurons) \n",
    "    network.train(patterns)\n",
    "\n",
    "    for pattern in patterns:\n",
    "        prediction = network.predict(pattern) \n",
    "        print('Input pattern:', pattern) \n",
    "        print('Predicted pattern:', prediction)\n"
   ]
  },
  {
   "cell_type": "code",
   "execution_count": null,
   "id": "fa4a4211-751e-4d65-a241-fe7e4a59ee95",
   "metadata": {},
   "outputs": [],
   "source": []
  }
 ],
 "metadata": {
  "kernelspec": {
   "display_name": "Python 3 (ipykernel)",
   "language": "python",
   "name": "python3"
  },
  "language_info": {
   "codemirror_mode": {
    "name": "ipython",
    "version": 3
   },
   "file_extension": ".py",
   "mimetype": "text/x-python",
   "name": "python",
   "nbconvert_exporter": "python",
   "pygments_lexer": "ipython3",
   "version": "3.11.4"
  }
 },
 "nbformat": 4,
 "nbformat_minor": 5
}
