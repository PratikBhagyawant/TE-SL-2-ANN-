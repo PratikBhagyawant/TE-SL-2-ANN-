{
 "cells": [
  {
   "cell_type": "markdown",
   "id": "d515b967-4dc8-489f-bcf6-4a67fe6f9932",
   "metadata": {},
   "source": [
    "NAME : Pratik Vijay Bhagyawant\\ \n",
    "CLASS : TE-AI&DS\\\n",
    "ROLL No : 2437016\\\n",
    "Batch : A\\\n",
    "SUB : Software Laboratory II (Artificial Neural Network)"
   ]
  },
  {
   "cell_type": "markdown",
   "id": "b57a0147-35d2-4dd5-9743-e457cb54e8f9",
   "metadata": {},
   "source": [
    "Problem Statement :\\\n",
    "Implement Artificial Neural Network training process in Python by using Forward Propagation,\n",
    "Back Propagation. "
   ]
  },
  {
   "cell_type": "code",
   "execution_count": 1,
   "id": "7050c922-4373-4042-ba3c-119926541595",
   "metadata": {},
   "outputs": [],
   "source": [
    "import numpy as np"
   ]
  },
  {
   "cell_type": "code",
   "execution_count": 2,
   "id": "d5393804-997e-4df0-a3d7-dcec238c57d4",
   "metadata": {},
   "outputs": [
    {
     "name": "stdout",
     "output_type": "stream",
     "text": [
      "Final predicted output after training:\n",
      "[[0.064]\n",
      " [0.941]\n",
      " [0.941]\n",
      " [0.064]]\n"
     ]
    }
   ],
   "source": [
    "# Sigmoid activation and its derivative\n",
    "def sigmoid(x):\n",
    "    return 1 / (1 + np.exp(-x))\n",
    "\n",
    "def sigmoid_derivative(x):\n",
    "    return x * (1 - x)\n",
    "\n",
    "# Input data for XOR\n",
    "X = np.array([\n",
    "    [0, 0],\n",
    "    [0, 1],\n",
    "    [1, 0],\n",
    "    [1, 1]\n",
    "])\n",
    "\n",
    "# Target output for XOR\n",
    "y = np.array([[0], [1], [1], [0]])\n",
    "\n",
    "# Set seed for reproducibility\n",
    "np.random.seed(1)\n",
    "\n",
    "# Initialize weights and biases\n",
    "input_layer_neurons = 2\n",
    "hidden_layer_neurons = 2\n",
    "output_neurons = 1\n",
    "\n",
    "# Random weight initialization\n",
    "wh = np.random.uniform(size=(input_layer_neurons, hidden_layer_neurons))  # Input → Hidden\n",
    "bh = np.random.uniform(size=(1, hidden_layer_neurons))                    # Hidden layer bias\n",
    "\n",
    "wo = np.random.uniform(size=(hidden_layer_neurons, output_neurons))       # Hidden → Output\n",
    "bo = np.random.uniform(size=(1, output_neurons))                          # Output layer bias\n",
    "\n",
    "# Training loop\n",
    "epochs = 10000\n",
    "learning_rate = 0.1\n",
    "\n",
    "for epoch in range(epochs):\n",
    "    # ------- Forward Propagation -------\n",
    "    hidden_input = np.dot(X, wh) + bh\n",
    "    hidden_output = sigmoid(hidden_input)\n",
    "\n",
    "    final_input = np.dot(hidden_output, wo) + bo\n",
    "    predicted_output = sigmoid(final_input)\n",
    "\n",
    "    # ------- Backpropagation -------\n",
    "    error = y - predicted_output\n",
    "    d_predicted_output = error * sigmoid_derivative(predicted_output)\n",
    "\n",
    "    error_hidden_layer = d_predicted_output.dot(wo.T)\n",
    "    d_hidden_layer = error_hidden_layer * sigmoid_derivative(hidden_output)\n",
    "\n",
    "    # ------- Update Weights & Biases -------\n",
    "    wo += hidden_output.T.dot(d_predicted_output) * learning_rate\n",
    "    bo += np.sum(d_predicted_output, axis=0, keepdims=True) * learning_rate\n",
    "\n",
    "    wh += X.T.dot(d_hidden_layer) * learning_rate\n",
    "    bh += np.sum(d_hidden_layer, axis=0, keepdims=True) * learning_rate\n",
    "\n",
    "# --------- Final Output ----------\n",
    "print(\"Final predicted output after training:\")\n",
    "print(np.round(predicted_output, 3))"
   ]
  },
  {
   "cell_type": "code",
   "execution_count": null,
   "id": "75133b7a-044c-4389-8444-9767e77eccba",
   "metadata": {},
   "outputs": [],
   "source": []
  }
 ],
 "metadata": {
  "kernelspec": {
   "display_name": "Python 3 (ipykernel)",
   "language": "python",
   "name": "python3"
  },
  "language_info": {
   "codemirror_mode": {
    "name": "ipython",
    "version": 3
   },
   "file_extension": ".py",
   "mimetype": "text/x-python",
   "name": "python",
   "nbconvert_exporter": "python",
   "pygments_lexer": "ipython3",
   "version": "3.11.4"
  }
 },
 "nbformat": 4,
 "nbformat_minor": 5
}
