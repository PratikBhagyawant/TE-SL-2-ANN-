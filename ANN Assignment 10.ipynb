{
 "cells": [
  {
   "cell_type": "markdown",
   "id": "776266c3-a681-4c1b-ad9f-c3678b164525",
   "metadata": {},
   "source": [
    "NAME : Pratik Vijay Bhagyawant\\ \n",
    "CLASS : TE-AI&DS\\\n",
    "ROLL No : 2437016\\\n",
    "Batch : A\\\n",
    "SUB : Software Laboratory II (Artificial Neural Network)"
   ]
  },
  {
   "cell_type": "code",
   "execution_count": null,
   "id": "ee161975-fee7-494f-97db-705459a97179",
   "metadata": {},
   "outputs": [],
   "source": [
    "Problem Statement :\\\n",
    "How to Train a Neural Network with TensorFlow/&Pytorch and evaluation of logistic regression\n",
    "using tensorflow"
   ]
  },
  {
   "cell_type": "code",
   "execution_count": 18,
   "id": "be68800a-a391-4661-9bb5-1eaef9f7444f",
   "metadata": {},
   "outputs": [],
   "source": [
    "import numpy as np\n",
    "import tensorflow as tf\n",
    "from sklearn.model_selection import train_test_split\n",
    "from sklearn.preprocessing import StandardScaler"
   ]
  },
  {
   "cell_type": "code",
   "execution_count": 19,
   "id": "13227098-bd15-48c5-be88-ecf36d4c135d",
   "metadata": {},
   "outputs": [],
   "source": [
    "# Dataset\n",
    "status_labels = ['C'] * 7 + ['H'] * 7\n",
    "psa_values = [3.8, 3.4, 2.9, 2.8, 2.7, 2.1, 1.6, 2.5, 2.0, 1.7, 1.4, 1.2, 0.9, 0.8]"
   ]
  },
  {
   "cell_type": "code",
   "execution_count": 20,
   "id": "a41670c3-8a9c-4b76-a7e7-fd8dfb3fb87d",
   "metadata": {},
   "outputs": [],
   "source": [
    "# Encode labels: Cancer (C) = 1, Healthy (H) = 0\n",
    "labels = np.array([1 if s == 'C' else 0 for s in status_labels])\n",
    "features = np.array(psa_values).reshape(-1, 1)"
   ]
  },
  {
   "cell_type": "code",
   "execution_count": 21,
   "id": "d7c63f59-f88c-445e-aca0-09385d4c4266",
   "metadata": {},
   "outputs": [],
   "source": [
    "# Normalize PSA values\n",
    "scaler = StandardScaler()\n",
    "features_scaled = scaler.fit_transform(features)"
   ]
  },
  {
   "cell_type": "code",
   "execution_count": 22,
   "id": "9ae53caa-22b5-444c-ac99-a94a005c639b",
   "metadata": {},
   "outputs": [],
   "source": [
    "# Split the dataset\n",
    "X_train, X_test, y_train, y_test = train_test_split(features_scaled, labels, test_size=0.3, random_state=42)"
   ]
  },
  {
   "cell_type": "code",
   "execution_count": 23,
   "id": "0a46c7d1-a44a-4344-80c6-993d03edde24",
   "metadata": {},
   "outputs": [
    {
     "name": "stderr",
     "output_type": "stream",
     "text": [
      "C:\\Users\\ok\\AppData\\Local\\Programs\\Python\\Python311\\Lib\\site-packages\\keras\\src\\layers\\core\\dense.py:87: UserWarning: Do not pass an `input_shape`/`input_dim` argument to a layer. When using Sequential models, prefer using an `Input(shape)` object as the first layer in the model instead.\n",
      "  super().__init__(activity_regularizer=activity_regularizer, **kwargs)\n"
     ]
    },
    {
     "name": "stdout",
     "output_type": "stream",
     "text": [
      "WARNING:tensorflow:5 out of the last 5 calls to <function TensorFlowTrainer.make_test_function.<locals>.one_step_on_iterator at 0x00000242FC7B3240> triggered tf.function retracing. Tracing is expensive and the excessive number of tracings could be due to (1) creating @tf.function repeatedly in a loop, (2) passing tensors with different shapes, (3) passing Python objects instead of tensors. For (1), please define your @tf.function outside of the loop. For (2), @tf.function has reduce_retracing=True option that can avoid unnecessary retracing. For (3), please refer to https://www.tensorflow.org/guide/function#controlling_retracing and https://www.tensorflow.org/api_docs/python/tf/function for  more details.\n",
      "\u001b[1m1/1\u001b[0m \u001b[32m━━━━━━━━━━━━━━━━━━━━\u001b[0m\u001b[37m\u001b[0m \u001b[1m0s\u001b[0m 169ms/step - accuracy: 0.8000 - loss: 0.6102\n",
      "Neural Network Accuracy: 0.80\n"
     ]
    }
   ],
   "source": [
    "# Build a neural network\n",
    "nn_model = tf.keras.Sequential([\n",
    "    tf.keras.layers.Dense(8, activation='relu', input_shape=(1,)),\n",
    "    tf.keras.layers.Dense(4, activation='relu'),\n",
    "    tf.keras.layers.Dense(1, activation='sigmoid')  # Binary output\n",
    "])\n",
    "\n",
    "nn_model.compile(optimizer='adam', loss='binary_crossentropy', metrics=['accuracy'])\n",
    "\n",
    "# Train\n",
    "nn_model.fit(X_train, y_train, epochs=100, verbose=0)\n",
    "\n",
    "# Evaluate\n",
    "nn_loss, nn_accuracy = nn_model.evaluate(X_test, y_test)\n",
    "print(f\"Neural Network Accuracy: {nn_accuracy:.2f}\")\n"
   ]
  },
  {
   "cell_type": "code",
   "execution_count": 27,
   "id": "454daf13-ecfd-4f56-97e0-2fb485b9fbca",
   "metadata": {},
   "outputs": [
    {
     "name": "stderr",
     "output_type": "stream",
     "text": [
      "C:\\Users\\ok\\AppData\\Local\\Programs\\Python\\Python311\\Lib\\site-packages\\keras\\src\\layers\\core\\dense.py:87: UserWarning: Do not pass an `input_shape`/`input_dim` argument to a layer. When using Sequential models, prefer using an `Input(shape)` object as the first layer in the model instead.\n",
      "  super().__init__(activity_regularizer=activity_regularizer, **kwargs)\n"
     ]
    },
    {
     "name": "stdout",
     "output_type": "stream",
     "text": [
      "\u001b[1m1/1\u001b[0m \u001b[32m━━━━━━━━━━━━━━━━━━━━\u001b[0m\u001b[37m\u001b[0m \u001b[1m0s\u001b[0m 127ms/step - accuracy: 1.0000 - loss: 0.3528\n",
      "Logistic Regression Accuracy: 1.00\n"
     ]
    }
   ],
   "source": [
    "logistic_model = tf.keras.Sequential([\n",
    "    tf.keras.layers.Dense(1, activation='sigmoid', input_shape=(1,))\n",
    "])\n",
    "\n",
    "logistic_model.compile(optimizer='adam', loss='binary_crossentropy', metrics=['accuracy'])\n",
    "logistic_model.fit(X_train, y_train, epochs=100, verbose=0)\n",
    "\n",
    "loss_lr, accuracy_lr = logistic_model.evaluate(X_test, y_test)\n",
    "print(f\"Logistic Regression Accuracy: {accuracy_lr:.2f}\")\n",
    "\n"
   ]
  },
  {
   "cell_type": "code",
   "execution_count": 28,
   "id": "2217d1a4-c8ad-42fe-a8db-18e8ef95fe63",
   "metadata": {},
   "outputs": [
    {
     "name": "stdout",
     "output_type": "stream",
     "text": [
      "\u001b[1m1/1\u001b[0m \u001b[32m━━━━━━━━━━━━━━━━━━━━\u001b[0m\u001b[37m\u001b[0m \u001b[1m0s\u001b[0m 35ms/step\n",
      "PSA: 2.3 → Predicted: Cancer (C) (0.56 confidence)\n",
      "\u001b[1m1/1\u001b[0m \u001b[32m━━━━━━━━━━━━━━━━━━━━\u001b[0m\u001b[37m\u001b[0m \u001b[1m0s\u001b[0m 48ms/step\n",
      "PSA: 2.3 → Predicted: Cancer (C) (0.57 confidence)\n"
     ]
    }
   ],
   "source": [
    "def predict_new_psa(model, psa_input):\n",
    "    psa_scaled = scaler.transform(np.array([[psa_input]]))\n",
    "    prediction = model.predict(psa_scaled)[0][0]\n",
    "    result = \"Cancer (C)\" if prediction >= 0.5 else \"Healthy (H)\"\n",
    "    print(f\"PSA: {psa_input} → Predicted: {result} ({prediction:.2f} confidence)\")\n",
    "\n",
    "# Try with new value\n",
    "predict_new_psa(nn_model, 2.3)\n",
    "predict_new_psa(logistic_model, 2.3)\n"
   ]
  },
  {
   "cell_type": "code",
   "execution_count": null,
   "id": "437f5f73-08af-465d-9139-57b9489a90a5",
   "metadata": {},
   "outputs": [],
   "source": []
  }
 ],
 "metadata": {
  "kernelspec": {
   "display_name": "Python 3 (ipykernel)",
   "language": "python",
   "name": "python3"
  },
  "language_info": {
   "codemirror_mode": {
    "name": "ipython",
    "version": 3
   },
   "file_extension": ".py",
   "mimetype": "text/x-python",
   "name": "python",
   "nbconvert_exporter": "python",
   "pygments_lexer": "ipython3",
   "version": "3.11.4"
  }
 },
 "nbformat": 4,
 "nbformat_minor": 5
}
