{
 "cells": [
  {
   "cell_type": "markdown",
   "id": "c75db7d7-ca65-4c2a-93ca-5ed771859d8c",
   "metadata": {},
   "source": [
    "NAME : Pratik Vijay Bhagyawant\\ \n",
    "CLASS : TE-AI&DS\\\n",
    "ROLL No : 2437016\\\n",
    "Batch : A\\\n",
    "SUB : Software Laboratory II (Artificial Neural Network)"
   ]
  },
  {
   "cell_type": "markdown",
   "id": "24085e25-8df6-4373-bdf7-a6003ad12ccc",
   "metadata": {},
   "source": [
    "Problem Statement :\\\n",
    "Write a python program to show Back Propagation Network for XOR function with Binary Input\n",
    "and Output"
   ]
  },
  {
   "cell_type": "code",
   "execution_count": 1,
   "id": "adee57a6-2ed9-4113-9487-f0e91bdb9f2f",
   "metadata": {},
   "outputs": [],
   "source": [
    "import numpy as np"
   ]
  },
  {
   "cell_type": "code",
   "execution_count": 2,
   "id": "2b541fae-1b22-4840-8927-26e199a14a96",
   "metadata": {},
   "outputs": [
    {
     "name": "stdout",
     "output_type": "stream",
     "text": [
      "Final Output after Training (rounded):\n",
      "[[0.053]\n",
      " [0.952]\n",
      " [0.952]\n",
      " [0.052]]\n"
     ]
    }
   ],
   "source": [
    "# ----- Activation Function -----\n",
    "def sigmoid(x):\n",
    "    return 1 / (1 + np.exp(-x))\n",
    "\n",
    "# ----- Derivative of Sigmoid -----\n",
    "def sigmoid_derivative(x):\n",
    "    return x * (1 - x)\n",
    "\n",
    "# ----- XOR Input and Output -----\n",
    "X = np.array([\n",
    "    [0, 0],\n",
    "    [0, 1],\n",
    "    [1, 0],\n",
    "    [1, 1]\n",
    "])\n",
    "\n",
    "y = np.array([\n",
    "    [0],\n",
    "    [1],\n",
    "    [1],\n",
    "    [0]\n",
    "])\n",
    "\n",
    "# ----- Network Architecture -----\n",
    "input_neurons = 2\n",
    "hidden_neurons = 2\n",
    "output_neurons = 1\n",
    "\n",
    "# ----- Weight and Bias Initialization -----\n",
    "np.random.seed(42)\n",
    "\n",
    "weights_input_hidden = np.random.uniform(size=(input_neurons, hidden_neurons))\n",
    "bias_hidden = np.random.uniform(size=(1, hidden_neurons))\n",
    "\n",
    "weights_hidden_output = np.random.uniform(size=(hidden_neurons, output_neurons))\n",
    "bias_output = np.random.uniform(size=(1, output_neurons))\n",
    "\n",
    "# ----- Training Parameters -----\n",
    "epochs = 10000\n",
    "learning_rate = 0.1\n",
    "\n",
    "# ----- Training Loop -----\n",
    "for epoch in range(epochs):\n",
    "    # ------- FORWARD PROPAGATION -------\n",
    "    hidden_input = np.dot(X, weights_input_hidden) + bias_hidden\n",
    "    hidden_output = sigmoid(hidden_input)\n",
    "\n",
    "    final_input = np.dot(hidden_output, weights_hidden_output) + bias_output\n",
    "    final_output = sigmoid(final_input)\n",
    "\n",
    "    # ------- BACKPROPAGATION -------\n",
    "    error = y - final_output\n",
    "    d_output = error * sigmoid_derivative(final_output)\n",
    "\n",
    "    error_hidden = d_output.dot(weights_hidden_output.T)\n",
    "    d_hidden = error_hidden * sigmoid_derivative(hidden_output)\n",
    "\n",
    "    # ------- WEIGHT & BIAS UPDATES -------\n",
    "    weights_hidden_output += hidden_output.T.dot(d_output) * learning_rate\n",
    "    bias_output += np.sum(d_output, axis=0, keepdims=True) * learning_rate\n",
    "\n",
    "    weights_input_hidden += X.T.dot(d_hidden) * learning_rate\n",
    "    bias_hidden += np.sum(d_hidden, axis=0, keepdims=True) * learning_rate\n",
    "\n",
    "# ----- FINAL OUTPUT -----\n",
    "print(\"Final Output after Training (rounded):\")\n",
    "print(np.round(final_output, 3))\n"
   ]
  },
  {
   "cell_type": "code",
   "execution_count": null,
   "id": "8e2f8050-4981-40eb-adc9-b2d6ee29ea05",
   "metadata": {},
   "outputs": [],
   "source": []
  }
 ],
 "metadata": {
  "kernelspec": {
   "display_name": "Python 3 (ipykernel)",
   "language": "python",
   "name": "python3"
  },
  "language_info": {
   "codemirror_mode": {
    "name": "ipython",
    "version": 3
   },
   "file_extension": ".py",
   "mimetype": "text/x-python",
   "name": "python",
   "nbconvert_exporter": "python",
   "pygments_lexer": "ipython3",
   "version": "3.11.4"
  }
 },
 "nbformat": 4,
 "nbformat_minor": 5
}
